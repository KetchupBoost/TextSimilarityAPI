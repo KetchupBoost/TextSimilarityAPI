{
 "cells": [
  {
   "cell_type": "code",
   "execution_count": 1,
   "outputs": [],
   "source": [
    "import torch\n",
    "import pandas as pd\n",
    "from pathlib import Path\n",
    "from transformers import XLNetConfig, XLNetModel, XLNetTokenizer"
   ],
   "metadata": {
    "collapsed": false
   }
  },
  {
   "cell_type": "code",
   "execution_count": 2,
   "outputs": [],
   "source": [
    "train_data_dir = Path(r'./Data/train')\n",
    "train_file = Path(train_data_dir, 'xl_net_base_case.csv')"
   ],
   "metadata": {
    "collapsed": false
   }
  },
  {
   "cell_type": "code",
   "execution_count": 3,
   "outputs": [
    {
     "name": "stderr",
     "output_type": "stream",
     "text": [
      "Some weights of the model checkpoint at xlnet-base-cased were not used when initializing XLNetModel: ['lm_loss.weight', 'lm_loss.bias']\n",
      "- This IS expected if you are initializing XLNetModel from the checkpoint of a model trained on another task or with another architecture (e.g. initializing a BertForSequenceClassification model from a BertForPreTraining model).\n",
      "- This IS NOT expected if you are initializing XLNetModel from the checkpoint of a model that you expect to be exactly identical (initializing a BertForSequenceClassification model from a BertForSequenceClassification model).\n"
     ]
    }
   ],
   "source": [
    "tokenizer = XLNetTokenizer.from_pretrained('xlnet-base-cased')\n",
    "model = XLNetModel.from_pretrained('xlnet-base-cased')\n",
    "\n",
    "inputs = tokenizer(\"Hello, my dog is cute\", return_tensors=\"pt\")\n",
    "outputs = model(**inputs)\n",
    "\n",
    "last_hidden_states = outputs.last_hidden_state"
   ],
   "metadata": {
    "collapsed": false
   }
  },
  {
   "cell_type": "code",
   "execution_count": 4,
   "outputs": [
    {
     "data": {
      "text/plain": "tensor([[[ 2.0336e+00, -2.2855e+00, -3.5177e+00,  ..., -1.4426e+00,\n           4.4805e-01,  1.7478e+00],\n         [ 1.7492e+00, -4.1622e+00, -1.9760e+00,  ..., -3.2956e+00,\n          -5.6342e-02,  1.0578e+00],\n         [ 2.0526e+00, -3.0355e+00, -9.3957e-01,  ..., -5.1129e+00,\n           1.8165e-01,  2.9342e+00],\n         ...,\n         [ 3.7708e-01, -3.5917e+00, -3.0442e+00,  ..., -6.4846e-01,\n          -3.7836e-01,  2.6249e+00],\n         [ 5.0123e+00,  3.0817e-03, -4.3199e+00,  ..., -2.1635e+00,\n           1.8764e-01,  9.7332e-01],\n         [ 4.6562e+00,  5.4449e-01, -4.1356e+00,  ..., -1.3859e+00,\n           6.2719e-02,  1.0306e+00]]], grad_fn=<PermuteBackward0>)"
     },
     "execution_count": 4,
     "metadata": {},
     "output_type": "execute_result"
    }
   ],
   "source": [
    "last_hidden_states"
   ],
   "metadata": {
    "collapsed": false
   }
  },
  {
   "cell_type": "code",
   "execution_count": null,
   "outputs": [],
   "source": [],
   "metadata": {
    "collapsed": false
   }
  }
 ],
 "metadata": {
  "kernelspec": {
   "display_name": "Python 3",
   "language": "python",
   "name": "python3"
  },
  "language_info": {
   "codemirror_mode": {
    "name": "ipython",
    "version": 2
   },
   "file_extension": ".py",
   "mimetype": "text/x-python",
   "name": "python",
   "nbconvert_exporter": "python",
   "pygments_lexer": "ipython2",
   "version": "2.7.6"
  }
 },
 "nbformat": 4,
 "nbformat_minor": 0
}
