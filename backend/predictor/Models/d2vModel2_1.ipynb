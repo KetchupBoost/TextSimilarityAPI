{
 "cells": [
  {
   "cell_type": "code",
   "execution_count": null,
   "outputs": [],
   "source": [
    "import gensim\n",
    "import pandas as pd\n",
    "import smart_open\n",
    "from pathlib import Path\n",
    "from collections import Counter"
   ],
   "metadata": {
    "collapsed": false
   }
  },
  {
   "cell_type": "code",
   "execution_count": 2,
   "outputs": [],
   "source": [
    "# Set Paths to file and directory\n",
    "train_data_dir = Path(r'./Data/train')\n",
    "train_file = Path(train_data_dir, 'train.csv')\n",
    "\n",
    "test_data_dir = Path(r'./Data/test')\n",
    "test_file = Path(test_data_dir, 'test.csv')"
   ],
   "metadata": {
    "collapsed": false
   }
  },
  {
   "cell_type": "code",
   "execution_count": 3,
   "outputs": [],
   "source": [
    "def read_corpus(fname, tokens_only = False):\n",
    "    with smart_open.open(fname, encoding = \"iso-8859-1\") as f:\n",
    "        data_set = pd.read_csv(f)\n",
    "        data_set_a =  data_set.iloc[:, 1]\n",
    "        for i, line in enumerate(data_set_a):\n",
    "            tokens = gensim.utils.simple_preprocess(line)\n",
    "            if tokens_only:\n",
    "                yield tokens\n",
    "            else:\n",
    "                yield gensim.models.doc2vec.TaggedDocument(tokens, [i])"
   ],
   "metadata": {
    "collapsed": false
   }
  },
  {
   "cell_type": "code",
   "execution_count": 4,
   "outputs": [],
   "source": [
    "train_corpus = list(read_corpus(train_file))\n",
    "test_corpus = list(read_corpus(test_file, tokens_only = True))"
   ],
   "metadata": {
    "collapsed": false
   }
  },
  {
   "cell_type": "code",
   "execution_count": 5,
   "outputs": [],
   "source": [
    "'''\n",
    "Doc2Vec Model:\n",
    "    vector_size: 50 dimensions\n",
    "    epochs: iterating over the training corpus 40 times\n",
    "    min_count: discard words that dont appear less the 2 times in the whole corpus\n",
    "'''\n",
    "model = gensim.models.doc2vec.Doc2Vec(vector_size = 50, epochs = 40, min_count = 2)"
   ],
   "metadata": {
    "collapsed": false
   }
  },
  {
   "cell_type": "code",
   "execution_count": 6,
   "outputs": [],
   "source": [
    "'''\n",
    "Vocabulary is a list of all unique words extracted from training corpus --> (Model.wv.index_to_key)\n",
    "Additional attributes of each words                                     --> (Model.wv.get_vecattr())\n",
    "\n",
    "ex: print(f\"Word 'penalty' appeared {model.wv.get_vecattr('penalty', 'count')} times in the training corpus.\")\n",
    "'''\n",
    "model.build_vocab(train_corpus)"
   ],
   "metadata": {
    "collapsed": false
   }
  },
  {
   "cell_type": "code",
   "execution_count": 7,
   "outputs": [],
   "source": [
    "'''\n",
    "OBS:    If for some reason a BLAS library isn’t available, training uses a fallback approach that takes 60x-120x longer, so even this tiny training will take minutes rather than seconds.\n",
    "        (And, in that case, you should also notice a warning in the logging letting you know there’s something worth fixing).\n",
    "        So, be sure your installation uses the BLAS-optimized Gensim if you value your time.\n",
    "'''\n",
    "model.train(train_corpus, total_examples = model.corpus_count, epochs = model.epochs)"
   ],
   "metadata": {
    "collapsed": false
   }
  },
  {
   "cell_type": "code",
   "execution_count": 10,
   "outputs": [],
   "source": [
    "'''\n",
    "Note: Infer_vector does NOT take a string, but rather a list of string tokens, which should have already been tokenized.\n",
    "'''\n",
    "vector = model.infer_vector(['visa', 'inc', 'class'])"
   ],
   "metadata": {
    "collapsed": false
   }
  },
  {
   "cell_type": "markdown",
   "source": [
    "**Assessing Model**"
   ],
   "metadata": {
    "collapsed": false
   }
  },
  {
   "cell_type": "code",
   "execution_count": 11,
   "outputs": [],
   "source": [
    "'''\n",
    "\n",
    "'''\n",
    "ranks = []\n",
    "sec_rank = []\n",
    "for doc_id in range(len(train_corpus)):\n",
    "    inf_vec = model.infer_vector(train_corpus[doc_id].words)\n",
    "    sims = model.dv.most_similar([inf_vec], topn = len(model.dv))\n",
    "    rank = [docId for docId, sim in sims].index(doc_id)\n",
    "    ranks.append(sims[1])"
   ],
   "metadata": {
    "collapsed": false
   }
  },
  {
   "cell_type": "code",
   "execution_count": 32,
   "outputs": [
    {
     "name": "stdout",
     "output_type": "stream",
     "text": [
      "Document (2141): «dfa comm strategy»\n",
      "\n",
      "SIMILAR/DISSIMILAR DOCS PER MODEL Doc2Vec<dm/m,d50,n5,w5,mc2,s0.001,t3>:\n",
      "\n",
      "MOST «83.308%»: «goldman sachs mgd futures strat»\n",
      "\n",
      "SECOND-MOST «83.086%»: «goldman sachs mangd futures strategy»\n",
      "\n",
      "MEDIAN «44.818%»: «technology select sectorspdr etf iv»\n",
      "\n",
      "LEAST «-55.678%»: «vanguard short term corp bond index fund etf»\n",
      "\n"
     ]
    }
   ],
   "source": [
    "print('Document ({}): «{}»\\n'.format(doc_id, ' '.join(train_corpus[doc_id].words)))\n",
    "print(u'SIMILAR/DISSIMILAR DOCS PER MODEL %s:\\n' % model)\n",
    "for label, index in [('MOST', 0), ('SECOND-MOST', 1), ('MEDIAN', len(sims)//2), ('LEAST', len(sims) - 1)]:\n",
    "    sim = str(round(sims[index][1] * 100, 3)) + '%'\n",
    "    print(u'%s «%s»: «%s»\\n' % (label, ''.join(sim) , ' '.join(train_corpus[sims[index][0]].words)))"
   ],
   "metadata": {
    "collapsed": false
   }
  },
  {
   "cell_type": "code",
   "execution_count": 21,
   "outputs": [
    {
     "data": {
      "text/plain": "-0.5567775964736938"
     },
     "execution_count": 21,
     "metadata": {},
     "output_type": "execute_result"
    }
   ],
   "source": [],
   "metadata": {
    "collapsed": false
   }
  },
  {
   "cell_type": "code",
   "execution_count": null,
   "outputs": [],
   "source": [],
   "metadata": {
    "collapsed": false
   }
  }
 ],
 "metadata": {
  "kernelspec": {
   "display_name": "Python 3",
   "language": "python",
   "name": "python3"
  },
  "language_info": {
   "codemirror_mode": {
    "name": "ipython",
    "version": 2
   },
   "file_extension": ".py",
   "mimetype": "text/x-python",
   "name": "python",
   "nbconvert_exporter": "python",
   "pygments_lexer": "ipython2",
   "version": "2.7.6"
  }
 },
 "nbformat": 4,
 "nbformat_minor": 0
}
