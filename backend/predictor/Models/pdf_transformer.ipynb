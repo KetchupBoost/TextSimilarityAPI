{
 "cells": [
  {
   "cell_type": "code",
   "execution_count": 52,
   "outputs": [
    {
     "data": {
      "text/plain": "'https://github.com/UB-Mannheim/tesseract/wiki -> Requires on Windows'"
     },
     "execution_count": 52,
     "metadata": {},
     "output_type": "execute_result"
    }
   ],
   "source": [
    "import pytesseract.pytesseract\n",
    "\n",
    "import os\n",
    "import fitz\n",
    "import ocrmypdf\n",
    "\n",
    "'''https://github.com/UB-Mannheim/tesseract/wiki -> Requires on Windows'''"
   ],
   "metadata": {
    "collapsed": false
   }
  },
  {
   "cell_type": "code",
   "execution_count": 14,
   "outputs": [],
   "source": [
    "PATH = './Data/raw/'\n",
    "file_list = [f for f in os.listdir(PATH) if f.endswith('.pdf') or f.endswith('.PDF')]"
   ],
   "metadata": {
    "collapsed": false
   }
  },
  {
   "cell_type": "code",
   "execution_count": 15,
   "outputs": [
    {
     "name": "stderr",
     "output_type": "stream",
     "text": [
      "Scanning contents: 100%|██████████| 5/5 [00:00<00:00, 76.18page/s]\n",
      "OCR: 100%|██████████| 5.0/5.0 [00:00<00:00, 2243.66page/s]\n",
      "Recompressing JPEGs: 0image [00:00, ?image/s]\n",
      "Deflating JPEGs: 0image [00:00, ?image/s]\n",
      "JBIG2: 0item [00:00, ?item/s]\n",
      "Scanning contents: 100%|██████████| 5/5 [00:00<00:00, 82.88page/s]\n",
      "OCR: 100%|██████████| 5.0/5.0 [00:00<00:00, 2046.00page/s]\n",
      "Recompressing JPEGs: 0image [00:00, ?image/s]\n",
      "Deflating JPEGs: 0image [00:00, ?image/s]\n",
      "JBIG2: 0item [00:00, ?item/s]\n",
      "Scanning contents: 100%|██████████| 2/2 [00:00<00:00, 42.37page/s]\n",
      "OCR: 100%|██████████| 2.0/2.0 [00:00<00:00, 1435.18page/s]\n",
      "Recompressing JPEGs: 0image [00:00, ?image/s]\n",
      "Deflating JPEGs: 100%|██████████| 1/1 [00:00<00:00, 453.88image/s]\n",
      "JBIG2: 0item [00:00, ?item/s]\n",
      "Scanning contents: 100%|██████████| 3/3 [00:00<00:00, 34.41page/s]\n",
      "OCR: 100%|██████████| 3.0/3.0 [00:00<00:00, 1727.95page/s]\n",
      "Recompressing JPEGs: 0image [00:00, ?image/s]\n",
      "Deflating JPEGs: 0image [00:00, ?image/s]\n",
      "JBIG2: 0item [00:00, ?item/s]\n",
      "Scanning contents: 100%|██████████| 7/7 [00:00<00:00, 53.61page/s]\n",
      "OCR: 100%|██████████| 7.0/7.0 [00:00<00:00, 2479.32page/s]\n",
      "Recompressing JPEGs: 0image [00:00, ?image/s]\n",
      "Deflating JPEGs: 100%|██████████| 2/2 [00:00<00:00, 725.47image/s]\n",
      "JBIG2: 0item [00:00, ?item/s]\n",
      "Scanning contents: 100%|██████████| 3/3 [00:00<00:00, 32.11page/s]\n",
      "OCR: 100%|██████████| 3.0/3.0 [00:00<00:00, 1890.75page/s]\n",
      "Recompressing JPEGs: 0image [00:00, ?image/s]\n",
      "Deflating JPEGs: 0image [00:00, ?image/s]\n",
      "JBIG2: 0item [00:00, ?item/s]\n",
      "Scanning contents: 100%|██████████| 3/3 [00:00<00:00, 33.76page/s]\n",
      "OCR: 100%|██████████| 3.0/3.0 [00:00<00:00, 1547.71page/s]\n",
      "Recompressing JPEGs: 0image [00:00, ?image/s]\n",
      "Deflating JPEGs: 0image [00:00, ?image/s]\n",
      "JBIG2: 0item [00:00, ?item/s]\n",
      "Scanning contents: 100%|██████████| 3/3 [00:00<00:00, 34.73page/s]\n",
      "OCR: 100%|██████████| 3.0/3.0 [00:00<00:00, 1785.06page/s]\n",
      "Recompressing JPEGs: 0image [00:00, ?image/s]\n",
      "Deflating JPEGs: 0image [00:00, ?image/s]\n",
      "JBIG2: 0item [00:00, ?item/s]\n",
      "Scanning contents: 100%|██████████| 14/14 [00:00<00:00, 45.38page/s]\n",
      "OCR: 100%|██████████| 14.0/14.0 [00:00<00:00, 4415.72page/s]\n",
      "Recompressing JPEGs: 0image [00:00, ?image/s]\n",
      "Deflating JPEGs: 100%|██████████| 4/4 [00:00<00:00, 204.05image/s]\n",
      "JBIG2: 0item [00:00, ?item/s]\n",
      "Scanning contents: 100%|██████████| 3/3 [00:00<00:00, 90.71page/s]\n",
      "OCR: 100%|██████████| 3.0/3.0 [00:00<00:00, 1195.64page/s]\n",
      "Recompressing JPEGs: 0image [00:00, ?image/s]\n",
      "Deflating JPEGs: 0image [00:00, ?image/s]\n",
      "JBIG2: 0item [00:00, ?item/s]\n",
      "Scanning contents: 100%|██████████| 13/13 [00:00<00:00, 13.98page/s]\n",
      "OCR: 100%|██████████| 13.0/13.0 [00:00<00:00, 4336.40page/s]\n",
      "Recompressing JPEGs: 0image [00:00, ?image/s]\n",
      "Deflating JPEGs: 100%|██████████| 8/8 [00:00<00:00, 1200.30image/s]\n",
      "JBIG2: 0item [00:00, ?item/s]\n",
      "Scanning contents: 100%|██████████| 9/9 [00:00<00:00, 36.50page/s]\n",
      "OCR: 100%|██████████| 9.0/9.0 [00:00<00:00, 3367.12page/s]\n",
      "Recompressing JPEGs: 0image [00:00, ?image/s]\n",
      "Deflating JPEGs: 100%|██████████| 2/2 [00:00<00:00, 660.88image/s]\n",
      "JBIG2: 0item [00:00, ?item/s]\n",
      "Scanning contents: 100%|██████████| 3/3 [00:00<00:00, 22.92page/s]\n",
      "OCR: 100%|██████████| 3.0/3.0 [00:00<00:00, 1289.23page/s]\n",
      "Recompressing JPEGs: 0image [00:00, ?image/s]\n",
      "Deflating JPEGs: 0image [00:00, ?image/s]\n",
      "JBIG2: 0item [00:00, ?item/s]\n",
      "Scanning contents: 100%|██████████| 9/9 [00:00<00:00, 36.63page/s]\n",
      "OCR: 100%|██████████| 9.0/9.0 [00:00<00:00, 3333.81page/s]\n",
      "Recompressing JPEGs: 0image [00:00, ?image/s]\n",
      "Deflating JPEGs: 100%|██████████| 3/3 [00:00<00:00, 621.59image/s]\n",
      "JBIG2: 0item [00:00, ?item/s]\n",
      "Scanning contents: 100%|██████████| 19/19 [00:08<00:00,  2.25page/s]\n",
      "OCR: 100%|██████████| 19.0/19.0 [00:00<00:00, 5544.93page/s]\n",
      "Recompressing JPEGs: 0image [00:00, ?image/s]\n",
      "Deflating JPEGs: 100%|██████████| 3/3 [00:00<00:00, 419.56image/s]\n",
      "JBIG2: 0item [00:00, ?item/s]\n",
      "Scanning contents: 100%|██████████| 7/7 [00:00<00:00, 23.11page/s]\n",
      "OCR: 100%|██████████| 7.0/7.0 [00:00<00:00, 2337.03page/s]\n",
      "Recompressing JPEGs: 0image [00:00, ?image/s]\n",
      "Deflating JPEGs: 0image [00:00, ?image/s]\n",
      "JBIG2: 0item [00:00, ?item/s]\n",
      "Scanning contents: 100%|██████████| 11/11 [00:00<00:00, 44.38page/s]\n",
      "OCR: 100%|██████████| 11.0/11.0 [00:00<00:00, 3402.96page/s]\n",
      "Recompressing JPEGs: 0image [00:00, ?image/s]\n",
      "Deflating JPEGs: 100%|██████████| 1/1 [00:00<00:00, 279.68image/s]\n",
      "JBIG2: 0item [00:00, ?item/s]\n",
      "Scanning contents: 100%|██████████| 2/2 [00:00<00:00, 65.94page/s]\n",
      "OCR: 100%|██████████| 2.0/2.0 [00:00<00:00, 1075.32page/s]\n",
      "Recompressing JPEGs: 0image [00:00, ?image/s]\n",
      "Deflating JPEGs: 0image [00:00, ?image/s]\n",
      "JBIG2: 0item [00:00, ?item/s]\n",
      "Scanning contents: 100%|██████████| 2/2 [00:00<00:00, 78.37page/s]\n",
      "OCR: 100%|██████████| 2.0/2.0 [00:00<00:00, 1628.22page/s]\n",
      "Recompressing JPEGs: 0image [00:00, ?image/s]\n",
      "Deflating JPEGs: 100%|██████████| 2/2 [00:00<00:00, 509.51image/s]\n",
      "JBIG2: 0item [00:00, ?item/s]\n",
      "Scanning contents: 100%|██████████| 3/3 [00:00<00:00, 82.96page/s]\n",
      "OCR: 100%|██████████| 3.0/3.0 [00:00<00:00, 1695.81page/s]\n",
      "Recompressing JPEGs: 0image [00:00, ?image/s]\n",
      "Deflating JPEGs: 0image [00:00, ?image/s]\n",
      "JBIG2: 0item [00:00, ?item/s]\n",
      "Scanning contents: 100%|██████████| 7/7 [00:00<00:00, 35.36page/s]\n",
      "OCR: 100%|██████████| 7.0/7.0 [00:00<00:00, 2991.35page/s]\n",
      "Recompressing JPEGs: 0image [00:00, ?image/s]\n",
      "Deflating JPEGs: 0image [00:00, ?image/s]\n",
      "JBIG2: 0item [00:00, ?item/s]\n",
      "Scanning contents: 100%|██████████| 16/16 [00:00<00:00, 85.10page/s]\n",
      "OCR: 100%|██████████| 16.0/16.0 [00:00<00:00, 4601.22page/s]\n",
      "Recompressing JPEGs: 0image [00:00, ?image/s]\n",
      "Deflating JPEGs: 0image [00:00, ?image/s]\n",
      "JBIG2: 0item [00:00, ?item/s]\n",
      "Scanning contents: 100%|██████████| 19/19 [00:00<00:00, 53.40page/s]\n",
      "OCR: 100%|██████████| 19.0/19.0 [00:00<00:00, 5431.18page/s]\n",
      "Recompressing JPEGs: 0image [00:00, ?image/s]\n",
      "Deflating JPEGs: 100%|██████████| 1/1 [00:00<00:00, 800.75image/s]\n",
      "JBIG2: 0item [00:00, ?item/s]\n",
      "Scanning contents: 100%|██████████| 13/13 [00:00<00:00, 18.56page/s]\n",
      "OCR: 100%|██████████| 13.0/13.0 [00:00<00:00, 3322.93page/s]\n",
      "Recompressing JPEGs: 0image [00:00, ?image/s]\n",
      "Deflating JPEGs: 100%|██████████| 3/3 [00:00<00:00, 1018.12image/s]\n",
      "JBIG2: 0item [00:00, ?item/s]\n"
     ]
    },
    {
     "name": "stdout",
     "output_type": "stream",
     "text": [
      "{}\n"
     ]
    }
   ],
   "source": [
    "# pytesseract.pytesseract.tesseract_cmd = r'D:\\Progams\\TesseractOCR\\tesseract.exe'\n",
    "error_log = {}\n",
    "\n",
    "for file in file_list:\n",
    "    try:\n",
    "        result = ocrmypdf.ocr(PATH + file, PATH + file ,output_type='pdf',skip_text=True,deskew=True)\n",
    "    except Exception as e:\n",
    "        error_log[file] = e\n",
    "print(error_log)"
   ],
   "metadata": {
    "collapsed": false
   }
  },
  {
   "cell_type": "code",
   "execution_count": 49,
   "outputs": [],
   "source": [
    "extraction_pdfs = {}\n",
    "\n",
    "for file in file_list:\n",
    "    #save the results\n",
    "    # pages_df = pages_df = pd.DataFrame(columns=['text'])\n",
    "    pages_df = []\n",
    "    # file reader\n",
    "    doc = fitz.open(f'{PATH}/{file}')\n",
    "    for page_num in range(doc.page_count):\n",
    "        page = doc.load_page(page_num)\n",
    "        pages_df.append(page.get_text('text'))\n",
    "    extraction_pdfs[file] = pages_df"
   ],
   "metadata": {
    "collapsed": false
   }
  },
  {
   "cell_type": "code",
   "execution_count": 51,
   "outputs": [
    {
     "data": {
      "text/plain": "['Rua João Paulino Vieira Filho 625, 12 andar Sala 1201 – Zona 07 – Maringá/ PR CEP: 87.020-025  Fone: (44) 3033 9291\\nEXCELENTÍSSIMO SENHOR DOUTOR JUIZ DE DIREITO DA___ª VARA CÍVEL\\nDA COMARCA DE PORTO VELHO/RO\\nDeclaro serem autênticas as fotocópias\\ncarreadas a esta inicial, de acordo com o\\ncontido no art. 225 do Código Civil e art.\\n425, VI, do Novo Código de Processo\\nCivil.\\nBUSCA E APREENSÃO – c/ fundamento nos artigos 1361 à 1368 da Lei n.º\\n10.406 de 10 de janeiro de 2002 c/c Decreto-lei n.º 911/69 e alterações da Lei\\n13.043/2014\\nBANCO PAN S/A, inscrito no CNPJ/MF sob n.º\\n59.285.411/0001-13, com sede social em SÃO PAULO, SP, na AVENIDA\\nPAULISTA, 1374, BAIRRO: BELA VISTA, CEP: 1310100, endereço eletrônico\\nintimacoes@belinatiperez.com.br \\ne\\ntriagemjuridicocorrespondencias@grupopan.com, neste ato representada por seu\\nadvogado infra-assinado, com escritório constante no endereço do rodapé, onde\\nrequer sejam remetidas todas intimações judiciais, ou que sejam publicados,\\nVEM, respeitosamente perante Vossa Excelência, com fundamento no Decreto-Lei\\nnº 911/1969, com as alterações do artigo 56 da Lei nº 10.931/04, artigos 101 e 102\\nda Lei 13.043, de 13 de novembro de 2014 e artigos 1361 à 1368-B, do Código Civil\\ne demais disposições legais aplicáveis à espécie, propor:\\nAÇÃO DE BUSCA E APREENSÃO\\nem face de\\nMAILSON CARDOSO DA SILVA,\\nestado civil: Solteiro(a), profissão: não informada, Brasileiro(a), endereço eletrônico:\\nnão informado, RG: não informado, inscrito no CPF/MF sob nº 122.851.687-13, com\\nendereço na Rua Miguel de Cervante, 117, Cs 79, Aeroclube, Porto Velho, Ro, Cep:\\n76811-003, pelos motivos de fato e de direito a seguir expostos:\\nTão somente para efeitos de argumentação,\\nentende o Requerente que os dados fornecidos são suficientes para a concretização\\nda citação o(a) requerido(a), nos termos do artigo 319, parágrafo 2º, do Código de\\nProcesso Civil.\\n',\n 'Rua João Paulino Vieira Filho 625, 12 andar Sala 1201 – Zona 07 – Maringá/ PR CEP: 87.020-025  Fone: (44) 3033 9291\\nContudo, caso este não seja o entendimento deste\\nD. Juízo, esclarece o Requerente que as informações complementares\\n“desconhecidas” poderão ser disponibilizadas após o cumprimento positivo do\\nmandado.\\nI - DOS FATOS\\n1\\n– Mediante Contrato de Financiamento para\\nAquisição de Bens com taxa prefixada sob n.89958461, firmado em 06/04/2021,\\nobrigou-se o(a) requerido(a) a pagar a importância financiada em 48 parcelas iguais\\ne consecutivas.\\n2 – Em garantia às obrigações assumidas, nos\\ntermos do artigo 1.361, caput, do Código Civil, o(a) requerido(a) transferiu ao credor,\\nem alienação fiduciária, o bem descrito no supramencionado contrato, a saber:\\nMarca CHERY, modelo QQ 1.0 LOOK, chassi n.º 98RDB12B6JA003815, ano de\\nfabricação 2017 e modelo 2018, cor BRANCA, placa NDM4581, renavam\\n01143397417(Doc. anexo)\\n3 – O(A) requerido(a), mesmo sendo devidamente\\nNOTIFICADO(A), não satisfez o débito, que se acha totalmente vencido por força de\\ncláusula contratual, deixando de realizar pagamentos relativos a prestação vencida\\nem 07/02/2022, totalizando, até a presente data, a importância de R$ 32.072,71 A\\nSER CONSIDERADO PARA EFEITO DO PAGAMENTO A QUE ALUDE O DEC. LEI\\n911/69 ART. 3º, §2º COM A ALTERAÇÃO DADA PELA LEI 10.931/04, sendo que\\neste valor compreende as parcelas vencidas e vincendas, já devidamente\\nacrescidas dos encargos contratuais, despesas com notificação e custas\\nprocessuais.\\n4 - Apesar de todos os esforços despendidos pelo\\nrequerente no sentido de receber a dívida, o(a) requerido(a) nega-se a saldá-la,\\nrazão pela qual foi notificado(a), como comprova Carta Registrada anexa, ficando\\nassim, devidamente constituído(a) em MORA, conforme preceituado no §2º, do\\nArtigo 2º do Decreto Lei 911/69, observando as alterações trazidas pela Lei\\n13.043/2014.\\nAdemais, \\ninsta \\nsalientar \\ncom \\nrelação \\nà\\nNOTIFICAÇÃO EXTRAJUDICIAL que, de acordo com as modificações introduzidas\\npela legislação acima mencionada, a mesma não precisa obrigatoriamente ser\\nencaminhada via Cartório Extrajudicial ou de Protesto de Título, bem como não se\\nexige que seja o comprovante de entrega seja assinado de próprio punho pelo o\\nrequerido(a).\\nTodavia, quando encaminhada por Cartório de\\nTítulos e Documentos de Circunscrição diversa do endereço do devedor, esta não\\nse torna inapta a comprovar a mora e tampouco prejudica o direito de defesa do\\n',\n 'Rua João Paulino Vieira Filho 625, 12 andar Sala 1201 – Zona 07 – Maringá/ PR CEP: 87.020-025  Fone: (44) 3033 9291\\nmesmo, conforme já decidiu o C. Superior Tribunal de Justiça, no Agravo em\\nRecurso Especial, registrado sob o número 2011/0021790-4, do qual abaixo se\\ntranscreve a ementa:\\n“RECURSO ESPECIAL. AÇÃO DE BUSCA E APREENSÃO. CONTRATO DE\\nFINANCIAMENTO \\nDE \\nAUTOMÓVEL \\nCOM \\nGARANTIA \\nDE \\nALIENAÇÃO\\nFIDUCIÁRIA. NOTIFICAÇÃO EXTRAJUDICIAL REALIZADA POR CARTÓRIO DE\\nTÍTULOS E DOCUMENTOS LOCALIZADO EM COMARCA DIVERSA DA DO\\nDOMICÍLIO DO DEVEDOR.\\n1. A notificação extrajudicial realizada e entregue o endereço do devedor, por via\\npostal e com aviso de recebimento, é válida quando realizada por Cartório de Títulos\\ne Documentos de outra Comarca, mesmo que não seja aquele do domicílio do\\ndevedor.\\n2. De fato, inexiste norma no âmbito federal relativa ao limite territorial para a prática\\nde atos registrais, especialmente no tocante aos Ofícios de Títulos e Documentos,\\nrazão pela qual é possível a realização de notificações, como a efetivada no caso\\nem apreço, mediante o requerimento do apresentante do título, a quem é dada\\nliberdade de escolha nesses casos.\\n3. A notificação extrajudicial, seja porque não está incluída nos atos enumerados no\\nart. 129, seja porque não se trata de ato tendente a dar conhecimento a terceiros\\nacerca de sua existência, não está submetido ao disposto no art. 130 da Lei\\n6.015/73.\\n4. Recurso especial conhecido em parte e, nessa parte, provido”.\\nII – DO DIREITO\\n5 \\n– \\nEstando \\ncomprovada \\na \\nexistência \\ndo\\nInstrumento de Financiamento, formalmente entabulado entre as partes e garantido\\natravés de Alienação Fiduciária, restando comprovada a regular constituição em\\nmora do(a) requerido(a), apresentado os fatos, se vem propor como de fato propõe\\na presente Ação de Busca e Apreensão regulamentada e prevista em nossa\\nlegislação vigente, mais precisamente nos artigos 1361 a 1368 do Código Civil, c/c\\ncom o Decreto Lei 911/69 e alterações feitas pela Lei 13.043/2014.\\nFace ao exposto, demonstrados os princípios “fumus\\nboni júri” e o “periculum in mora “, não resta ao requerente outra alternativa senão a\\nde socorrer-se da tutela jurisdicional, cabendo-lhe o direito de fazer aprender o bem\\nque lhe foi fiduciariamente alienado, e em seguida aplicar o produto de venda no\\npagamento do principal e acessórios do seu crédito.\\nIII - DOS PEDIDOS\\nFace ao exposto, REQUER:\\nA) A concessão de liminar “inaudita altera pars” para\\napreensão do bem, com a expedição do competente mandado de busca e\\n',\n 'Rua João Paulino Vieira Filho 625, 12 andar Sala 1201 – Zona 07 – Maringá/ PR CEP: 87.020-025  Fone: (44) 3033 9291\\napreensão do veículo marca CHERY, modelo QQ 1.0 LOOK, chassi n.º\\n98RDB12B6JA003815, ano de fabricação 2017 e modelo 2018, cor BRANCA,\\nplaca NDM4581, renavam 01143397417, efetivando-se a apreensão do mesmo\\ncom quem quer que esteja, devendo constar expressamente do mandado, os\\nbenefícios do artigo 212 e parágrafos, bem como das prerrogativas de uso de\\nARROMBAMENTO E REQUISIÇÃO DE FORÇA POLICIAL, conforme preceitua o\\nart. 846, todos do Novo Código de Processo Civil;\\nB) Que este r. Juízo se abstenha de incluir\\nquaisquer \\nrestrições \\njudiciais \\nno \\nsistema \\nRENAJUD \\n(Circulação,\\nLicenciamento e Transferência), junto ao banco de dados do Registro Nacional\\nde Veículos Automotores – RENAVAM;\\nC) A citação do(a) requerido(a), após a efetivação\\nda liminar, facultando-se ao mesmo, dentro do prazo de 05 dias, pagar a\\nintegralidade do débito, de acordo com o que reza o §2º, do Artigo 3º, da Lei de\\nRegência (Decreto-Lei 911/69); ou para no prazo de 15(quinze), sob pena de\\nrevelia, contestar e acompanhar a presente ação, até final decisão;\\nD) Seja o Autor nomeado depositário fiel do bem\\napreendido, na pessoa de um dos representantes a seguir qualificados, ou ainda um\\ndos procuradores que ao final se identificam e assinam, ou quem estes indicarem no\\nato da apreensão;\\nE)\\nDecorrido o prazo de 05(cinco) dias após\\nexecutada a liminar, conforme previsto no parágrafo primeiro do artigo 3.º do Dec.\\nLei 911/69, com a redação que lhe foi dada pelo artigo 56 da Lei 10.931/04, sem\\nque a ré efetue o pagamento da totalidade do débito, consolidar-se-á a propriedade\\ne a posse plena e exclusiva do(s) bem(ns) no patrimônio do banco credor fiduciário\\nlivre de ônus, e que nos termos do artigo 2º. com a alteração dada pelo artigo 101\\nda Lei 13.043/2014, poderá vendê-lo(s), independentemente de leilão, avaliação ou\\nde qualquer outra formalidade e para tanto, deverá ser retirada a restrição registrada\\nno RENAVAM, conforme acima requerido(letra “b”) para fins de transferência da\\npropriedade em nome do banco autor ou a quem este indicar;\\nF) Requer ainda, que sejam concedidas ao Sr.\\nOficial de Justiça, as faculdades contidas no parágrafo segundo do artigo 212 e\\nparágrafos, do Novo Código de Processo Civil, para que proceda a apreensão do(s)\\nbem(ns) que será(ao) removido(s) para o depósito do autor, quando também, o (a)\\nréu(ré) deverá entregar os respectivos documentos, conforme preceitua o §14º, do\\nartigo 3º., incluído pela Lei 13.043/ 2014, cuja determinação deverá constar do\\nmandado;\\nG) Para a hipótese do bem se encontrar em\\ncomarca distinta da competência desse juízo, requer desde já conste do mandado a\\npossibilidade de apreensão do bem, independentemente de distribuição de carta\\nprecatória conforme preceitua o §10º, também incluído pela citada lei;\\n',\n 'Rua João Paulino Vieira Filho 625, 12 andar Sala 1201 – Zona 07 – Maringá/ PR CEP: 87.020-025  Fone: (44) 3033 9291\\nH) Requer ademais após a apreensão do bem, a\\nautorização para retira-lo da comarca nos termos do § 13, do art. 3º incluído pela Lei\\n13.043/ 2014;\\nI) Requer nos termos do artigo 1.368 ‘b’, parágrafo\\núnico da Lei nº 10.406/2002, com redação dada pela Lei nº 13043/14, seja o\\nrequerido intimado a efetivar o pagamento dos tributos, taxas e despesas\\ndecorrentes do bem objeto da lide, até a data da efetiva apreensão e, na remota\\nhipótese da não efetivação deste pagamento seja oficiado o DETRAN para\\nliberação da transferência do bem ao credor para venda e recuperação do crédito a\\nfavor do requerente;\\nJ)\\nFinalmente, \\nREQUER \\nsejam \\njulgados\\nprocedentes os pedidos formulados, consolidando-se a posse e a propriedade\\nexclusivas do bem nas mãos do autor.\\nK) Outrossim, considerando terem sido esgotados\\ntodos os meios de tentativas de solução amigável do débito, bem como em\\natendimento ao disposto no artigo 319, inciso VII do Novo Código de Processo Civil\\ne ao próprio princípio da efetividade da jurisdição que norteia o processo, o\\nRequerente manifesta não ter interesse na realização de audiência de conciliação\\nou de mediação.\\n6 - Pugna provar o alegado por todos os meios em\\ndireito admitidos, quer documentais, periciais ou testemunhais e especialmente o\\ndepoimento pessoal do(a) requerido(a), aplicando-se o disposto no artigo 385 e\\nparágrafos do Novo Código de Processo Civil, e todas as demais provas que se\\nfizerem necessárias para o esclarecimento da verdade, e cuja produção e juntada\\nrequererá oportunamente.\\n7 - Dá-se à presente o valor de R$ 32.072,71(Trinta\\ne Dois Mil  e Setenta e Dois Reais e Setenta e Um centavos), apenas para efeitos\\nfiscais.\\nPor fim, requer que todas as intimações, publicações\\nde despachos e comunicações relativas ao veículo retido/retomado, sejam\\nrealizadas em nome do(a) procurador(a), Dr.(ª) Cristiane Belinati Garcia Lopes,\\nOAB/RO 4.778, com endereço Av. Duque de Caxias 882, Zona 07, Ed New Tower,\\nSala 1201, Maringá – PR, CEP: 87.020-015, telefones (44) 3033-9291.\\nTermos em que,\\nPede e Espera Deferimento.\\nPorto Velho, 04 de Novembro de 2022.\\nPaulo Henrique Ferreira\\nOAB/PE 894-B\\n']"
     },
     "execution_count": 51,
     "metadata": {},
     "output_type": "execute_result"
    }
   ],
   "source": [
    "extraction_pdfs[file_list[0]]"
   ],
   "metadata": {
    "collapsed": false
   }
  },
  {
   "cell_type": "code",
   "execution_count": 34,
   "outputs": [
    {
     "data": {
      "text/plain": "'BeA-01.pdf'"
     },
     "execution_count": 34,
     "metadata": {},
     "output_type": "execute_result"
    }
   ],
   "source": [
    "file_list[0]"
   ],
   "metadata": {
    "collapsed": false
   }
  },
  {
   "cell_type": "code",
   "execution_count": null,
   "outputs": [],
   "source": [],
   "metadata": {
    "collapsed": false
   }
  }
 ],
 "metadata": {
  "kernelspec": {
   "display_name": "Python 3",
   "language": "python",
   "name": "python3"
  },
  "language_info": {
   "codemirror_mode": {
    "name": "ipython",
    "version": 2
   },
   "file_extension": ".py",
   "mimetype": "text/x-python",
   "name": "python",
   "nbconvert_exporter": "python",
   "pygments_lexer": "ipython2",
   "version": "2.7.6"
  }
 },
 "nbformat": 4,
 "nbformat_minor": 0
}
