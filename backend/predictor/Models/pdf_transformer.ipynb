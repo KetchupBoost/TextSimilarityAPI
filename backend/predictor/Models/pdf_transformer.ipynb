{
 "cells": [
  {
   "cell_type": "code",
   "execution_count": 7,
   "outputs": [
    {
     "data": {
      "text/plain": "'https://github.com/UB-Mannheim/tesseract/wiki -> Requires on Windows'"
     },
     "execution_count": 7,
     "metadata": {},
     "output_type": "execute_result"
    }
   ],
   "source": [
    "import pytesseract.pytesseract\n",
    "\n",
    "import ocrmypdf\n",
    "import pandas as pd\n",
    "import fitz\n",
    "import icecream as ic\n",
    "import os\n",
    "import numpy as np\n",
    "from django.conf import settings\n",
    "from pathlib import Path\n",
    "from glob import glob as gb\n",
    "from tempfile import TemporaryDirectory\n",
    "\n",
    "'''https://github.com/UB-Mannheim/tesseract/wiki -> Requires on Windows'''"
   ],
   "metadata": {
    "collapsed": false
   }
  },
  {
   "cell_type": "code",
   "execution_count": 32,
   "outputs": [],
   "source": [
    "PATH = os.path.abspath('./Data/raw')\n",
    "file_list = [f for f in os.listdir(PATH) if f.endswith('.pdf') or f.endswith('.PDF')]"
   ],
   "metadata": {
    "collapsed": false
   }
  },
  {
   "cell_type": "code",
   "execution_count": 31,
   "outputs": [
    {
     "name": "stdout",
     "output_type": "stream",
     "text": [
      "{'BeA-01.pdf': InputFileError('File not found - BeA-01.pdf'), 'BeA-02.pdf': InputFileError('File not found - BeA-02.pdf'), 'CdS-01.pdf': InputFileError('File not found - CdS-01.pdf'), 'EtE-01.pdf': InputFileError('File not found - EtE-01.pdf'), 'EtE-02.pdf': InputFileError('File not found - EtE-02.pdf'), 'EtE-03.pdf': InputFileError('File not found - EtE-03.pdf'), 'EtE-04.pdf': InputFileError('File not found - EtE-04.pdf'), 'EtE-05.pdf': InputFileError('File not found - EtE-05.pdf'), 'IdP-01.pdf': InputFileError('File not found - IdP-01.pdf'), 'Pcc-01.pdf': InputFileError('File not found - Pcc-01.pdf'), 'Pcc-02.pdf': InputFileError('File not found - Pcc-02.pdf'), 'Pcc-03.pdf': InputFileError('File not found - Pcc-03.pdf'), 'Pcc-04.pdf': InputFileError('File not found - Pcc-04.pdf'), 'Pcc-05.pdf': InputFileError('File not found - Pcc-05.pdf'), 'Pcc-06.pdf': InputFileError('File not found - Pcc-06.pdf'), 'Pcc-07.pdf': InputFileError('File not found - Pcc-07.pdf'), 'Pcc-08.pdf': InputFileError('File not found - Pcc-08.pdf'), 'Pcc-09.pdf': InputFileError('File not found - Pcc-09.pdf'), 'Pcc-10.pdf': InputFileError('File not found - Pcc-10.pdf'), 'Pcc-11.pdf': InputFileError('File not found - Pcc-11.pdf'), 'Pcc-12.pdf': InputFileError('File not found - Pcc-12.pdf'), 'Pcc-13.pdf': InputFileError('File not found - Pcc-13.pdf'), 'Pcc-14.pdf': InputFileError('File not found - Pcc-14.pdf'), 'Pcc-15.pdf': InputFileError('File not found - Pcc-15.pdf')}\n"
     ]
    }
   ],
   "source": [
    "pytesseract.pytesseract.tesseract_cmd = r'D:\\Progams\\TesseractOCR\\tesseract.exe'\n",
    "error_log = {}\n",
    "\n",
    "for file in file_list:\n",
    "    try:\n",
    "        result = ocrmypdf.ocr(file, f\".\\\\{file}\" ,output_type='pdf',skip_text=True,deskew=True)\n",
    "    except Exception as e:\n",
    "        error_log[file] = e\n",
    "print(error_log)"
   ],
   "metadata": {
    "collapsed": false
   }
  },
  {
   "cell_type": "code",
   "execution_count": 33,
   "outputs": [
    {
     "ename": "AttributeError",
     "evalue": "module 'fitz' has no attribute 'open'",
     "output_type": "error",
     "traceback": [
      "\u001B[1;31m---------------------------------------------------------------------------\u001B[0m",
      "\u001B[1;31mAttributeError\u001B[0m                            Traceback (most recent call last)",
      "Cell \u001B[1;32mIn[33], line 9\u001B[0m\n\u001B[0;32m      7\u001B[0m pages_df \u001B[38;5;241m=\u001B[39m []\n\u001B[0;32m      8\u001B[0m \u001B[38;5;66;03m# file reader\u001B[39;00m\n\u001B[1;32m----> 9\u001B[0m doc \u001B[38;5;241m=\u001B[39m \u001B[43mfitz\u001B[49m\u001B[38;5;241;43m.\u001B[39;49m\u001B[43mopen\u001B[49m(file)\n\u001B[0;32m     11\u001B[0m \u001B[38;5;28;01mfor\u001B[39;00m page_num \u001B[38;5;129;01min\u001B[39;00m \u001B[38;5;28mrange\u001B[39m(doc\u001B[38;5;241m.\u001B[39mpage_count):\n\u001B[0;32m     12\u001B[0m     page \u001B[38;5;241m=\u001B[39m doc\u001B[38;5;241m.\u001B[39mload_page(page_num)\n",
      "\u001B[1;31mAttributeError\u001B[0m: module 'fitz' has no attribute 'open'"
     ]
    }
   ],
   "source": [
    "extraction_pdfs = {}\n",
    "ocr_file_list = [f for f in os.listdir(path=PATH) if f.startswith('Be') ]\n",
    "\n",
    "for file in ocr_file_list:\n",
    "    #save the results\n",
    "    # pages_df = pages_df = pd.DataFrame(columns=['text'])\n",
    "    pages_df = []\n",
    "    # file reader\n",
    "    doc = fitz.open(file)\n",
    "\n",
    "    for page_num in range(doc.page_count):\n",
    "        page = doc.load_page(page_num)\n",
    "        pages_df = pages_df.append(page.get_text('text'))\n",
    "\n",
    "    extraction_pdfs[file] = pages_df"
   ],
   "metadata": {
    "collapsed": false
   }
  },
  {
   "cell_type": "code",
   "execution_count": null,
   "outputs": [],
   "source": [],
   "metadata": {
    "collapsed": false
   }
  }
 ],
 "metadata": {
  "kernelspec": {
   "display_name": "Python 3",
   "language": "python",
   "name": "python3"
  },
  "language_info": {
   "codemirror_mode": {
    "name": "ipython",
    "version": 2
   },
   "file_extension": ".py",
   "mimetype": "text/x-python",
   "name": "python",
   "nbconvert_exporter": "python",
   "pygments_lexer": "ipython2",
   "version": "2.7.6"
  }
 },
 "nbformat": 4,
 "nbformat_minor": 0
}
