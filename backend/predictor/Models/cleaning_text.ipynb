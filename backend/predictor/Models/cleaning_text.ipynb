{
 "cells": [
  {
   "cell_type": "code",
   "execution_count": 1,
   "outputs": [],
   "source": [
    "import json\n",
    "import re\n",
    "import nltk\n",
    "import gensim\n",
    "import numpy as np\n",
    "import pandas as pd\n",
    "import matplotlib.pyplot as plt\n",
    "\n",
    "from nltk.corpus import stopwords\n",
    "from nltk.tokenize import word_tokenize"
   ],
   "metadata": {
    "collapsed": false
   }
  },
  {
   "cell_type": "code",
   "execution_count": 2,
   "outputs": [],
   "source": [
    "en_stopwords = stopwords.words('english')\n",
    "pt_stopwords = stopwords.words('portuguese')"
   ],
   "metadata": {
    "collapsed": false
   }
  },
  {
   "cell_type": "code",
   "execution_count": 33,
   "outputs": [],
   "source": [
    "def load_json(file):\n",
    "    with open(f'./Data/json/{file}') as json_file:\n",
    "        return json.load(json_file)"
   ],
   "metadata": {
    "collapsed": false
   }
  },
  {
   "cell_type": "code",
   "execution_count": 79,
   "outputs": [
    {
     "data": {
      "text/plain": "['Rua João Paulino Vieira Filho 625, 12 andar Sala 1201 – Zona 07 – Maringá/ PR CEP: 87.020-025  Fone: (44) 3033 9291\\nEXCELENTÍSSIMO SENHOR DOUTOR JUIZ DE DIREITO DA___ª VARA CÍVEL\\nDA COMARCA DE PORTO VELHO/RO\\nDeclaro serem autênticas as fotocópias\\ncarreadas a esta inicial, de acordo com o\\ncontido no art. 225 do Código Civil e art.\\n425, VI, do Novo Código de Processo\\nCivil.\\nBUSCA E APREENSÃO – c/ fundamento nos artigos 1361 à 1368 da Lei n.º\\n10.406 de 10 de janeiro de 2002 c/c Decreto-lei n.º 911/69 e alterações da Lei\\n13.043/2014\\nBANCO PAN S/A, inscrito no CNPJ/MF sob n.º\\n59.285.411/0001-13, com sede social em SÃO PAULO, SP, na AVENIDA\\nPAULISTA, 1374, BAIRRO: BELA VISTA, CEP: 1310100, endereço eletrônico\\nintimacoes@belinatiperez.com.br \\ne\\ntriagemjuridicocorrespondencias@grupopan.com, neste ato representada por seu\\nadvogado infra-assinado, com escritório constante no endereço do rodapé, onde\\nrequer sejam remetidas todas intimações judiciais, ou que sejam publicados,\\nVEM, respeitosamente perante Vossa Excelência, com fundamento no Decreto-Lei\\nnº 911/1969, com as alterações do artigo 56 da Lei nº 10.931/04, artigos 101 e 102\\nda Lei 13.043, de 13 de novembro de 2014 e artigos 1361 à 1368-B, do Código Civil\\ne demais disposições legais aplicáveis à espécie, propor:\\nAÇÃO DE BUSCA E APREENSÃO\\nem face de BRUNO MATEUS TAVARES DA SILVA,\\nestado civil: Solteiro(a), profissão: não informada, Brasileiro(a), endereço eletrônico:\\nnão informado, RG: não informado, inscrito no CPF/MF sob nº 040.231.832-37, com\\nendereço na Rua Jerônimo Santana, 3564, Castanheira, Porto Velho, Ro, Cep:\\n76811-330, pelos motivos de fato e de direito a seguir expostos:\\nTão somente para efeitos de argumentação,\\nentende o Requerente que os dados fornecidos são suficientes para a concretização\\nda citação o(a) requerido(a), nos termos do artigo 319, parágrafo 2º, do Código de\\nProcesso Civil.\\n',\n 'Rua João Paulino Vieira Filho 625, 12 andar Sala 1201 – Zona 07 – Maringá/ PR CEP: 87.020-025  Fone: (44) 3033 9291\\nContudo, caso este não seja o entendimento deste\\nD. Juízo, esclarece o Requerente que as informações complementares\\n“desconhecidas” poderão ser disponibilizadas após o cumprimento positivo do\\nmandado.\\nI - DOS FATOS\\n1\\n– Mediante Contrato de Financiamento para\\nAquisição de Bens com taxa prefixada sob n.92239039, firmado em 12/07/2022,\\nobrigou-se o(a) requerido(a) a pagar a importância financiada em 48 parcelas iguais\\ne consecutivas.\\n2 – Em garantia às obrigações assumidas, nos\\ntermos do artigo 1.361, caput, do Código Civil, o(a) requerido(a) transferiu ao credor,\\nem alienação fiduciária, o bem descrito no supramencionado contrato, a saber:\\nMarca FIAT, modelo SIENA ESSENCE 1.6, chassi n.º 9BD19716TG3269383, ano\\nde fabricação 2015 e modelo 2016, cor BRANCA, placa NEG6G46, renavam\\n01060408020(Doc. anexo)\\n3 – O(A) requerido(a), mesmo sendo devidamente\\nNOTIFICADO(A), não satisfez o débito, que se acha totalmente vencido por força de\\ncláusula contratual, deixando de realizar pagamentos relativos a prestação vencida\\nem 12/08/2022, totalizando, até a presente data, a importância de R$ 31.449,58 A\\nSER CONSIDERADO PARA EFEITO DO PAGAMENTO A QUE ALUDE O DEC. LEI\\n911/69 ART. 3º, §2º COM A ALTERAÇÃO DADA PELA LEI 10.931/04, sendo que\\neste valor compreende as parcelas vencidas e vincendas, já devidamente\\nacrescidas dos encargos contratuais, despesas com notificação e custas\\nprocessuais.\\n4 - Apesar de todos os esforços despendidos pelo\\nrequerente no sentido de receber a dívida, o(a) requerido(a) nega-se a saldá-la,\\nrazão pela qual foi notificado(a), como comprova Carta Registrada anexa, ficando\\nassim, devidamente constituído(a) em MORA, conforme preceituado no §2º, do\\nArtigo 2º do Decreto Lei 911/69, observando as alterações trazidas pela Lei\\n13.043/2014.\\nAdemais, \\ninsta \\nsalientar \\ncom \\nrelação \\nà\\nNOTIFICAÇÃO EXTRAJUDICIAL que, de acordo com as modificações introduzidas\\npela legislação acima mencionada, a mesma não precisa obrigatoriamente ser\\nencaminhada via Cartório Extrajudicial ou de Protesto de Título, bem como não se\\nexige que seja o comprovante de entrega seja assinado de próprio punho pelo o\\nrequerido(a).\\nTodavia, quando encaminhada por Cartório de\\nTítulos e Documentos de Circunscrição diversa do endereço do devedor, esta não\\nse torna inapta a comprovar a mora e tampouco prejudica o direito de defesa do\\n',\n 'Rua João Paulino Vieira Filho 625, 12 andar Sala 1201 – Zona 07 – Maringá/ PR CEP: 87.020-025  Fone: (44) 3033 9291\\nmesmo, conforme já decidiu o C. Superior Tribunal de Justiça, no Agravo em\\nRecurso Especial, registrado sob o número 2011/0021790-4, do qual abaixo se\\ntranscreve a ementa:\\n“RECURSO ESPECIAL. AÇÃO DE BUSCA E APREENSÃO. CONTRATO DE\\nFINANCIAMENTO \\nDE \\nAUTOMÓVEL \\nCOM \\nGARANTIA \\nDE \\nALIENAÇÃO\\nFIDUCIÁRIA. NOTIFICAÇÃO EXTRAJUDICIAL REALIZADA POR CARTÓRIO DE\\nTÍTULOS E DOCUMENTOS LOCALIZADO EM COMARCA DIVERSA DA DO\\nDOMICÍLIO DO DEVEDOR.\\n1. A notificação extrajudicial realizada e entregue o endereço do devedor, por via\\npostal e com aviso de recebimento, é válida quando realizada por Cartório de Títulos\\ne Documentos de outra Comarca, mesmo que não seja aquele do domicílio do\\ndevedor.\\n2. De fato, inexiste norma no âmbito federal relativa ao limite territorial para a prática\\nde atos registrais, especialmente no tocante aos Ofícios de Títulos e Documentos,\\nrazão pela qual é possível a realização de notificações, como a efetivada no caso\\nem apreço, mediante o requerimento do apresentante do título, a quem é dada\\nliberdade de escolha nesses casos.\\n3. A notificação extrajudicial, seja porque não está incluída nos atos enumerados no\\nart. 129, seja porque não se trata de ato tendente a dar conhecimento a terceiros\\nacerca de sua existência, não está submetido ao disposto no art. 130 da Lei\\n6.015/73.\\n4. Recurso especial conhecido em parte e, nessa parte, provido”.\\nII – DO DIREITO\\n5 \\n– \\nEstando \\ncomprovada \\na \\nexistência \\ndo\\nInstrumento de Financiamento, formalmente entabulado entre as partes e garantido\\natravés de Alienação Fiduciária, restando comprovada a regular constituição em\\nmora do(a) requerido(a), apresentado os fatos, se vem propor como de fato propõe\\na presente Ação de Busca e Apreensão regulamentada e prevista em nossa\\nlegislação vigente, mais precisamente nos artigos 1361 a 1368 do Código Civil, c/c\\ncom o Decreto Lei 911/69 e alterações feitas pela Lei 13.043/2014.\\nFace ao exposto, demonstrados os princípios “fumus\\nboni júri” e o “periculum in mora “, não resta ao requerente outra alternativa senão a\\nde socorrer-se da tutela jurisdicional, cabendo-lhe o direito de fazer aprender o bem\\nque lhe foi fiduciariamente alienado, e em seguida aplicar o produto de venda no\\npagamento do principal e acessórios do seu crédito.\\nIII - DOS PEDIDOS\\nFace ao exposto, REQUER:\\nA) A concessão de liminar “inaudita altera pars” para\\napreensão do bem, com a expedição do competente mandado de busca e\\n',\n 'Rua João Paulino Vieira Filho 625, 12 andar Sala 1201 – Zona 07 – Maringá/ PR CEP: 87.020-025  Fone: (44) 3033 9291\\napreensão do veículo marca FIAT, modelo SIENA ESSENCE 1.6, chassi n.º\\n9BD19716TG3269383, ano de fabricação 2015 e modelo 2016, cor BRANCA,\\nplaca NEG6G46, renavam 01060408020, efetivando-se a apreensão do mesmo\\ncom quem quer que esteja, devendo constar expressamente do mandado, os\\nbenefícios do artigo 212 e parágrafos, bem como das prerrogativas de uso de\\nARROMBAMENTO E REQUISIÇÃO DE FORÇA POLICIAL, conforme preceitua o\\nart. 846, todos do Novo Código de Processo Civil;\\nB) Que este r. Juízo se abstenha de incluir\\nquaisquer \\nrestrições \\njudiciais \\nno \\nsistema \\nRENAJUD \\n(Circulação,\\nLicenciamento e Transferência), junto ao banco de dados do Registro Nacional\\nde Veículos Automotores – RENAVAM;\\nC) A citação do(a) requerido(a), após a efetivação\\nda liminar, facultando-se ao mesmo, dentro do prazo de 05 dias, pagar a\\nintegralidade do débito, de acordo com o que reza o §2º, do Artigo 3º, da Lei de\\nRegência (Decreto-Lei 911/69); ou para no prazo de 15(quinze), sob pena de\\nrevelia, contestar e acompanhar a presente ação, até final decisão;\\nD) Seja o Autor nomeado depositário fiel do bem\\napreendido, na pessoa de um dos representantes a seguir qualificados, ou ainda um\\ndos procuradores que ao final se identificam e assinam, ou quem estes indicarem no\\nato da apreensão;\\nE)\\nDecorrido o prazo de 05(cinco) dias após\\nexecutada a liminar, conforme previsto no parágrafo primeiro do artigo 3.º do Dec.\\nLei 911/69, com a redação que lhe foi dada pelo artigo 56 da Lei 10.931/04, sem\\nque a ré efetue o pagamento da totalidade do débito, consolidar-se-á a propriedade\\ne a posse plena e exclusiva do(s) bem(ns) no patrimônio do banco credor fiduciário\\nlivre de ônus, e que nos termos do artigo 2º. com a alteração dada pelo artigo 101\\nda Lei 13.043/2014, poderá vendê-lo(s), independentemente de leilão, avaliação ou\\nde qualquer outra formalidade e para tanto, deverá ser retirada a restrição registrada\\nno RENAVAM, conforme acima requerido(letra “b”) para fins de transferência da\\npropriedade em nome do banco autor ou a quem este indicar;\\nF) Requer ainda, que sejam concedidas ao Sr.\\nOficial de Justiça, as faculdades contidas no parágrafo segundo do artigo 212 e\\nparágrafos, do Novo Código de Processo Civil, para que proceda a apreensão do(s)\\nbem(ns) que será(ao) removido(s) para o depósito do autor, quando também, o (a)\\nréu(ré) deverá entregar os respectivos documentos, conforme preceitua o §14º, do\\nartigo 3º., incluído pela Lei 13.043/ 2014, cuja determinação deverá constar do\\nmandado;\\nG) Para a hipótese do bem se encontrar em\\ncomarca distinta da competência desse juízo, requer desde já conste do mandado a\\npossibilidade de apreensão do bem, independentemente de distribuição de carta\\nprecatória conforme preceitua o §10º, também incluído pela citada lei;\\n',\n 'Rua João Paulino Vieira Filho 625, 12 andar Sala 1201 – Zona 07 – Maringá/ PR CEP: 87.020-025  Fone: (44) 3033 9291\\nH) Requer ademais após a apreensão do bem, a\\nautorização para retira-lo da comarca nos termos do § 13, do art. 3º incluído pela Lei\\n13.043/ 2014;\\nI) Requer nos termos do artigo 1.368 ‘b’, parágrafo\\núnico da Lei nº 10.406/2002, com redação dada pela Lei nº 13043/14, seja o\\nrequerido intimado a efetivar o pagamento dos tributos, taxas e despesas\\ndecorrentes do bem objeto da lide, até a data da efetiva apreensão e, na remota\\nhipótese da não efetivação deste pagamento seja oficiado o DETRAN para\\nliberação da transferência do bem ao credor para venda e recuperação do crédito a\\nfavor do requerente;\\nJ)\\nFinalmente, \\nREQUER \\nsejam \\njulgados\\nprocedentes os pedidos formulados, consolidando-se a posse e a propriedade\\nexclusivas do bem nas mãos do autor.\\nK) Outrossim, considerando terem sido esgotados\\ntodos os meios de tentativas de solução amigável do débito, bem como em\\natendimento ao disposto no artigo 319, inciso VII do Novo Código de Processo Civil\\ne ao próprio princípio da efetividade da jurisdição que norteia o processo, o\\nRequerente manifesta não ter interesse na realização de audiência de conciliação\\nou de mediação.\\n6 - Pugna provar o alegado por todos os meios em\\ndireito admitidos, quer documentais, periciais ou testemunhais e especialmente o\\ndepoimento pessoal do(a) requerido(a), aplicando-se o disposto no artigo 385 e\\nparágrafos do Novo Código de Processo Civil, e todas as demais provas que se\\nfizerem necessárias para o esclarecimento da verdade, e cuja produção e juntada\\nrequererá oportunamente.\\n7 - Dá-se à presente o valor de R$ 31.449,58(Trinta\\ne Um Mil  e Quatrocentos e Quarenta e Nove Reais e Cinquenta e Oito\\ncentavos), apenas para efeitos fiscais.\\nPor fim, requer que todas as intimações, publicações\\nde despachos e comunicações relativas ao veículo retido/retomado, sejam\\nrealizadas em nome do(a) procurador(a), Dr.(ª) Cristiane Belinati Garcia Lopes,\\nOAB/RO 4.778, com endereço Av. Duque de Caxias 882, Zona 07, Ed New Tower,\\nSala 1201, Maringá – PR, CEP: 87.020-015, telefones (44) 3033-9291.\\nTermos em que,\\nPede e Espera Deferimento.\\nPorto Velho, 04 de Novembro de 2022.\\nPaulo Henrique Ferreira\\nOAB/PE 894-B\\n']"
     },
     "execution_count": 79,
     "metadata": {},
     "output_type": "execute_result"
    }
   ],
   "source": [
    "data_dict = load_json('pdf_dict.json')\n",
    "data_dict[\"BeA-02.pdf\"]"
   ],
   "metadata": {
    "collapsed": false
   }
  },
  {
   "cell_type": "code",
   "execution_count": 92,
   "outputs": [],
   "source": [
    "def replace_strings(dict_values):\n",
    "    #Remove HTML tags\n",
    "    document = re.sub(r'<[^>]+>', ' ', dict_values)\n",
    "\n",
    "    #Remove all the special characters\n",
    "    document = re.sub(r'\\W', ' ', document)\n",
    "\n",
    "    #remove all single characters\n",
    "    document = re.sub(r'\\s+[a-zA-Z]\\s+', ' ', document)\n",
    "\n",
    "    #Remove single characters from the start\n",
    "    document = re.sub(r'\\^[a-zA-Z]\\s+', ' ', document)\n",
    "\n",
    "    #Substituting multiple spaces with single space\n",
    "    document = re.sub(r'\\s+', ' ', document, flags=re.I)\n",
    "\n",
    "    #Removing prefixed 'b'\n",
    "    document = re.sub(r'^b\\s+', '', document)\n",
    "\n",
    "    #Converting to Lowercase\n",
    "    document = document.lower()\n",
    "\n",
    "    return document\n",
    "\n",
    "def cleaning_json(json_data):\n",
    "    # documents = [] #to use for the embedding\n",
    "    documents_tok = []  #to use for indexing words\n",
    "    # len_sentences = []  #to register the lenght of sentences\n",
    "\n",
    "    #Filling the array that we will use to create the tokenized vectors\n",
    "    documents_tok = [[replace_strings(value) for value in values] for values in json_data.values()]\n",
    "\n",
    "    return documents_tok"
   ],
   "metadata": {
    "collapsed": false
   }
  },
  {
   "cell_type": "code",
   "execution_count": 93,
   "outputs": [
    {
     "ename": "TypeError",
     "evalue": "unhashable type: 'list'",
     "output_type": "error",
     "traceback": [
      "\u001B[0;31m---------------------------------------------------------------------------\u001B[0m",
      "\u001B[0;31mTypeError\u001B[0m                                 Traceback (most recent call last)",
      "Cell \u001B[0;32mIn[93], line 1\u001B[0m\n\u001B[0;32m----> 1\u001B[0m \u001B[43mcleaning_json\u001B[49m\u001B[43m(\u001B[49m\u001B[43mdata_dict\u001B[49m\u001B[43m)\u001B[49m\n",
      "Cell \u001B[0;32mIn[92], line 31\u001B[0m, in \u001B[0;36mcleaning_json\u001B[0;34m(json_data)\u001B[0m\n\u001B[1;32m     27\u001B[0m documents_tok \u001B[38;5;241m=\u001B[39m []  \u001B[38;5;66;03m#to use for indexing words\u001B[39;00m\n\u001B[1;32m     28\u001B[0m \u001B[38;5;66;03m# len_sentences = []  #to register the lenght of sentences\u001B[39;00m\n\u001B[1;32m     29\u001B[0m \n\u001B[1;32m     30\u001B[0m \u001B[38;5;66;03m#Filling the array that we will use to create the tokenized vectors\u001B[39;00m\n\u001B[0;32m---> 31\u001B[0m documents_tok \u001B[38;5;241m=\u001B[39m {[replace_strings(value) \u001B[38;5;28;01mfor\u001B[39;00m value \u001B[38;5;129;01min\u001B[39;00m values] \u001B[38;5;28;01mfor\u001B[39;00m values \u001B[38;5;129;01min\u001B[39;00m json_data\u001B[38;5;241m.\u001B[39mvalues()}\n\u001B[1;32m     33\u001B[0m \u001B[38;5;28;01mreturn\u001B[39;00m documents_tok\n",
      "Cell \u001B[0;32mIn[92], line 31\u001B[0m, in \u001B[0;36m<setcomp>\u001B[0;34m(.0)\u001B[0m\n\u001B[1;32m     27\u001B[0m documents_tok \u001B[38;5;241m=\u001B[39m []  \u001B[38;5;66;03m#to use for indexing words\u001B[39;00m\n\u001B[1;32m     28\u001B[0m \u001B[38;5;66;03m# len_sentences = []  #to register the lenght of sentences\u001B[39;00m\n\u001B[1;32m     29\u001B[0m \n\u001B[1;32m     30\u001B[0m \u001B[38;5;66;03m#Filling the array that we will use to create the tokenized vectors\u001B[39;00m\n\u001B[0;32m---> 31\u001B[0m documents_tok \u001B[38;5;241m=\u001B[39m {[replace_strings(value) \u001B[38;5;28;01mfor\u001B[39;00m value \u001B[38;5;129;01min\u001B[39;00m values] \u001B[38;5;28;01mfor\u001B[39;00m values \u001B[38;5;129;01min\u001B[39;00m json_data\u001B[38;5;241m.\u001B[39mvalues()}\n\u001B[1;32m     33\u001B[0m \u001B[38;5;28;01mreturn\u001B[39;00m documents_tok\n",
      "\u001B[0;31mTypeError\u001B[0m: unhashable type: 'list'"
     ]
    }
   ],
   "source": [
    "cleaning_json(data_dict)"
   ],
   "metadata": {
    "collapsed": false
   }
  },
  {
   "cell_type": "code",
   "execution_count": null,
   "outputs": [],
   "source": [],
   "metadata": {
    "collapsed": false
   }
  }
 ],
 "metadata": {
  "kernelspec": {
   "display_name": "Python 3",
   "language": "python",
   "name": "python3"
  },
  "language_info": {
   "codemirror_mode": {
    "name": "ipython",
    "version": 2
   },
   "file_extension": ".py",
   "mimetype": "text/x-python",
   "name": "python",
   "nbconvert_exporter": "python",
   "pygments_lexer": "ipython2",
   "version": "2.7.6"
  }
 },
 "nbformat": 4,
 "nbformat_minor": 0
}
