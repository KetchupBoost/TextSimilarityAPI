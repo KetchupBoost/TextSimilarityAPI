{
 "cells": [
  {
   "cell_type": "code",
   "execution_count": 1,
   "outputs": [],
   "source": [
    "import pytesseract.pytesseract\n",
    "\n",
    "import os\n",
    "import fitz\n",
    "import ocrmypdf\n",
    "import json"
   ],
   "metadata": {
    "collapsed": false
   }
  },
  {
   "cell_type": "code",
   "execution_count": 2,
   "outputs": [],
   "source": [
    "PATH = './Data/raw/'\n",
    "pdf_list = [f for f in os.listdir(PATH) if f.endswith('.pdf') or f.endswith('.PDF')]\n",
    "pdf_list_name = [pdf_name.split('.pdf')[0] for pdf_name in pdf_list]"
   ],
   "metadata": {
    "collapsed": false
   }
  },
  {
   "cell_type": "code",
   "execution_count": 15,
   "outputs": [
    {
     "name": "stderr",
     "output_type": "stream",
     "text": [
      "Scanning contents: 100%|██████████| 5/5 [00:00<00:00, 76.18page/s]\n",
      "OCR: 100%|██████████| 5.0/5.0 [00:00<00:00, 2243.66page/s]\n",
      "Recompressing JPEGs: 0image [00:00, ?image/s]\n",
      "Deflating JPEGs: 0image [00:00, ?image/s]\n",
      "JBIG2: 0item [00:00, ?item/s]\n",
      "Scanning contents: 100%|██████████| 5/5 [00:00<00:00, 82.88page/s]\n",
      "OCR: 100%|██████████| 5.0/5.0 [00:00<00:00, 2046.00page/s]\n",
      "Recompressing JPEGs: 0image [00:00, ?image/s]\n",
      "Deflating JPEGs: 0image [00:00, ?image/s]\n",
      "JBIG2: 0item [00:00, ?item/s]\n",
      "Scanning contents: 100%|██████████| 2/2 [00:00<00:00, 42.37page/s]\n",
      "OCR: 100%|██████████| 2.0/2.0 [00:00<00:00, 1435.18page/s]\n",
      "Recompressing JPEGs: 0image [00:00, ?image/s]\n",
      "Deflating JPEGs: 100%|██████████| 1/1 [00:00<00:00, 453.88image/s]\n",
      "JBIG2: 0item [00:00, ?item/s]\n",
      "Scanning contents: 100%|██████████| 3/3 [00:00<00:00, 34.41page/s]\n",
      "OCR: 100%|██████████| 3.0/3.0 [00:00<00:00, 1727.95page/s]\n",
      "Recompressing JPEGs: 0image [00:00, ?image/s]\n",
      "Deflating JPEGs: 0image [00:00, ?image/s]\n",
      "JBIG2: 0item [00:00, ?item/s]\n",
      "Scanning contents: 100%|██████████| 7/7 [00:00<00:00, 53.61page/s]\n",
      "OCR: 100%|██████████| 7.0/7.0 [00:00<00:00, 2479.32page/s]\n",
      "Recompressing JPEGs: 0image [00:00, ?image/s]\n",
      "Deflating JPEGs: 100%|██████████| 2/2 [00:00<00:00, 725.47image/s]\n",
      "JBIG2: 0item [00:00, ?item/s]\n",
      "Scanning contents: 100%|██████████| 3/3 [00:00<00:00, 32.11page/s]\n",
      "OCR: 100%|██████████| 3.0/3.0 [00:00<00:00, 1890.75page/s]\n",
      "Recompressing JPEGs: 0image [00:00, ?image/s]\n",
      "Deflating JPEGs: 0image [00:00, ?image/s]\n",
      "JBIG2: 0item [00:00, ?item/s]\n",
      "Scanning contents: 100%|██████████| 3/3 [00:00<00:00, 33.76page/s]\n",
      "OCR: 100%|██████████| 3.0/3.0 [00:00<00:00, 1547.71page/s]\n",
      "Recompressing JPEGs: 0image [00:00, ?image/s]\n",
      "Deflating JPEGs: 0image [00:00, ?image/s]\n",
      "JBIG2: 0item [00:00, ?item/s]\n",
      "Scanning contents: 100%|██████████| 3/3 [00:00<00:00, 34.73page/s]\n",
      "OCR: 100%|██████████| 3.0/3.0 [00:00<00:00, 1785.06page/s]\n",
      "Recompressing JPEGs: 0image [00:00, ?image/s]\n",
      "Deflating JPEGs: 0image [00:00, ?image/s]\n",
      "JBIG2: 0item [00:00, ?item/s]\n",
      "Scanning contents: 100%|██████████| 14/14 [00:00<00:00, 45.38page/s]\n",
      "OCR: 100%|██████████| 14.0/14.0 [00:00<00:00, 4415.72page/s]\n",
      "Recompressing JPEGs: 0image [00:00, ?image/s]\n",
      "Deflating JPEGs: 100%|██████████| 4/4 [00:00<00:00, 204.05image/s]\n",
      "JBIG2: 0item [00:00, ?item/s]\n",
      "Scanning contents: 100%|██████████| 3/3 [00:00<00:00, 90.71page/s]\n",
      "OCR: 100%|██████████| 3.0/3.0 [00:00<00:00, 1195.64page/s]\n",
      "Recompressing JPEGs: 0image [00:00, ?image/s]\n",
      "Deflating JPEGs: 0image [00:00, ?image/s]\n",
      "JBIG2: 0item [00:00, ?item/s]\n",
      "Scanning contents: 100%|██████████| 13/13 [00:00<00:00, 13.98page/s]\n",
      "OCR: 100%|██████████| 13.0/13.0 [00:00<00:00, 4336.40page/s]\n",
      "Recompressing JPEGs: 0image [00:00, ?image/s]\n",
      "Deflating JPEGs: 100%|██████████| 8/8 [00:00<00:00, 1200.30image/s]\n",
      "JBIG2: 0item [00:00, ?item/s]\n",
      "Scanning contents: 100%|██████████| 9/9 [00:00<00:00, 36.50page/s]\n",
      "OCR: 100%|██████████| 9.0/9.0 [00:00<00:00, 3367.12page/s]\n",
      "Recompressing JPEGs: 0image [00:00, ?image/s]\n",
      "Deflating JPEGs: 100%|██████████| 2/2 [00:00<00:00, 660.88image/s]\n",
      "JBIG2: 0item [00:00, ?item/s]\n",
      "Scanning contents: 100%|██████████| 3/3 [00:00<00:00, 22.92page/s]\n",
      "OCR: 100%|██████████| 3.0/3.0 [00:00<00:00, 1289.23page/s]\n",
      "Recompressing JPEGs: 0image [00:00, ?image/s]\n",
      "Deflating JPEGs: 0image [00:00, ?image/s]\n",
      "JBIG2: 0item [00:00, ?item/s]\n",
      "Scanning contents: 100%|██████████| 9/9 [00:00<00:00, 36.63page/s]\n",
      "OCR: 100%|██████████| 9.0/9.0 [00:00<00:00, 3333.81page/s]\n",
      "Recompressing JPEGs: 0image [00:00, ?image/s]\n",
      "Deflating JPEGs: 100%|██████████| 3/3 [00:00<00:00, 621.59image/s]\n",
      "JBIG2: 0item [00:00, ?item/s]\n",
      "Scanning contents: 100%|██████████| 19/19 [00:08<00:00,  2.25page/s]\n",
      "OCR: 100%|██████████| 19.0/19.0 [00:00<00:00, 5544.93page/s]\n",
      "Recompressing JPEGs: 0image [00:00, ?image/s]\n",
      "Deflating JPEGs: 100%|██████████| 3/3 [00:00<00:00, 419.56image/s]\n",
      "JBIG2: 0item [00:00, ?item/s]\n",
      "Scanning contents: 100%|██████████| 7/7 [00:00<00:00, 23.11page/s]\n",
      "OCR: 100%|██████████| 7.0/7.0 [00:00<00:00, 2337.03page/s]\n",
      "Recompressing JPEGs: 0image [00:00, ?image/s]\n",
      "Deflating JPEGs: 0image [00:00, ?image/s]\n",
      "JBIG2: 0item [00:00, ?item/s]\n",
      "Scanning contents: 100%|██████████| 11/11 [00:00<00:00, 44.38page/s]\n",
      "OCR: 100%|██████████| 11.0/11.0 [00:00<00:00, 3402.96page/s]\n",
      "Recompressing JPEGs: 0image [00:00, ?image/s]\n",
      "Deflating JPEGs: 100%|██████████| 1/1 [00:00<00:00, 279.68image/s]\n",
      "JBIG2: 0item [00:00, ?item/s]\n",
      "Scanning contents: 100%|██████████| 2/2 [00:00<00:00, 65.94page/s]\n",
      "OCR: 100%|██████████| 2.0/2.0 [00:00<00:00, 1075.32page/s]\n",
      "Recompressing JPEGs: 0image [00:00, ?image/s]\n",
      "Deflating JPEGs: 0image [00:00, ?image/s]\n",
      "JBIG2: 0item [00:00, ?item/s]\n",
      "Scanning contents: 100%|██████████| 2/2 [00:00<00:00, 78.37page/s]\n",
      "OCR: 100%|██████████| 2.0/2.0 [00:00<00:00, 1628.22page/s]\n",
      "Recompressing JPEGs: 0image [00:00, ?image/s]\n",
      "Deflating JPEGs: 100%|██████████| 2/2 [00:00<00:00, 509.51image/s]\n",
      "JBIG2: 0item [00:00, ?item/s]\n",
      "Scanning contents: 100%|██████████| 3/3 [00:00<00:00, 82.96page/s]\n",
      "OCR: 100%|██████████| 3.0/3.0 [00:00<00:00, 1695.81page/s]\n",
      "Recompressing JPEGs: 0image [00:00, ?image/s]\n",
      "Deflating JPEGs: 0image [00:00, ?image/s]\n",
      "JBIG2: 0item [00:00, ?item/s]\n",
      "Scanning contents: 100%|██████████| 7/7 [00:00<00:00, 35.36page/s]\n",
      "OCR: 100%|██████████| 7.0/7.0 [00:00<00:00, 2991.35page/s]\n",
      "Recompressing JPEGs: 0image [00:00, ?image/s]\n",
      "Deflating JPEGs: 0image [00:00, ?image/s]\n",
      "JBIG2: 0item [00:00, ?item/s]\n",
      "Scanning contents: 100%|██████████| 16/16 [00:00<00:00, 85.10page/s]\n",
      "OCR: 100%|██████████| 16.0/16.0 [00:00<00:00, 4601.22page/s]\n",
      "Recompressing JPEGs: 0image [00:00, ?image/s]\n",
      "Deflating JPEGs: 0image [00:00, ?image/s]\n",
      "JBIG2: 0item [00:00, ?item/s]\n",
      "Scanning contents: 100%|██████████| 19/19 [00:00<00:00, 53.40page/s]\n",
      "OCR: 100%|██████████| 19.0/19.0 [00:00<00:00, 5431.18page/s]\n",
      "Recompressing JPEGs: 0image [00:00, ?image/s]\n",
      "Deflating JPEGs: 100%|██████████| 1/1 [00:00<00:00, 800.75image/s]\n",
      "JBIG2: 0item [00:00, ?item/s]\n",
      "Scanning contents: 100%|██████████| 13/13 [00:00<00:00, 18.56page/s]\n",
      "OCR: 100%|██████████| 13.0/13.0 [00:00<00:00, 3322.93page/s]\n",
      "Recompressing JPEGs: 0image [00:00, ?image/s]\n",
      "Deflating JPEGs: 100%|██████████| 3/3 [00:00<00:00, 1018.12image/s]\n",
      "JBIG2: 0item [00:00, ?item/s]\n"
     ]
    },
    {
     "name": "stdout",
     "output_type": "stream",
     "text": [
      "{}\n"
     ]
    }
   ],
   "source": [
    "# pytesseract.pytesseract.tesseract_cmd = r'D:\\Progams\\TesseractOCR\\tesseract.exe'\n",
    "error_log = {}\n",
    "\n",
    "for pdf in pdf_list:\n",
    "    try:\n",
    "        result = ocrmypdf.ocr(PATH + pdf, PATH + pdf ,output_type='pdf',skip_text=True,deskew=True)\n",
    "    except Exception as e:\n",
    "        error_log[pdf] = e\n",
    "print(error_log)"
   ],
   "metadata": {
    "collapsed": false
   }
  },
  {
   "cell_type": "code",
   "execution_count": 9,
   "outputs": [],
   "source": [
    "def extract_text(path):\n",
    "    pdfs_list = [f.split('.')[0] for f in os.listdir(PATH) if f.endswith(('.pdf', '.PDF'))]\n",
    "    extracted_text = {}\n",
    "    print(pdfs_list)\n",
    "    for pdf_name in pdfs_list:\n",
    "        pages_df = []\n",
    "        # pdf_name reader\n",
    "        doc = fitz.open(f'{path}/{pdf_name}.pdf')\n",
    "        for page_num in range(doc.page_count):\n",
    "            page = doc.load_page(page_num)\n",
    "            pages_df.append(page.get_text('text'))\n",
    "        extracted_text[pdf_name] = pages_df\n",
    "\n",
    "        pdf_json = json.dumps(extracted_text)\n",
    "        with open(f'./Data/json/{pdf_name}.json', 'w') as file_json:\n",
    "            file_json.write(pdf_json)"
   ],
   "metadata": {
    "collapsed": false
   }
  },
  {
   "cell_type": "code",
   "execution_count": 10,
   "outputs": [
    {
     "name": "stdout",
     "output_type": "stream",
     "text": [
      "['BeA-01', 'BeA-02', 'CdS-01', 'EtE-01', 'EtE-02', 'EtE-03', 'EtE-04', 'EtE-05', 'IdP-01', 'Pcc-01', 'Pcc-02', 'Pcc-03', 'Pcc-04', 'Pcc-05', 'Pcc-06', 'Pcc-07', 'Pcc-08', 'Pcc-09', 'Pcc-10', 'Pcc-11', 'Pcc-12', 'Pcc-13', 'Pcc-14', 'Pcc-15']\n"
     ]
    }
   ],
   "source": [
    "extract_text(PATH)"
   ],
   "metadata": {
    "collapsed": false
   }
  },
  {
   "cell_type": "code",
   "execution_count": null,
   "outputs": [],
   "source": [],
   "metadata": {
    "collapsed": false
   }
  }
 ],
 "metadata": {
  "kernelspec": {
   "display_name": "Python 3",
   "language": "python",
   "name": "python3"
  },
  "language_info": {
   "codemirror_mode": {
    "name": "ipython",
    "version": 2
   },
   "file_extension": ".py",
   "mimetype": "text/x-python",
   "name": "python",
   "nbconvert_exporter": "python",
   "pygments_lexer": "ipython2",
   "version": "2.7.6"
  }
 },
 "nbformat": 4,
 "nbformat_minor": 0
}
